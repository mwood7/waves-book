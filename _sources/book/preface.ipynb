{
 "cells": [
  {
   "cell_type": "markdown",
   "id": "40ef3d40",
   "metadata": {},
   "source": [
    "# Preface\n",
    "\n",
    "I've been teaching a course on the physics of waves, acoustics, and optics for several years, and in the process have come to realize it might be beneficial to have a book dedicated to this topic."
   ]
  }
 ],
 "metadata": {
  "jupytext": {
   "text_representation": {
    "extension": ".md",
    "format_name": "myst",
    "format_version": 0.13,
    "jupytext_version": "1.11.5"
   }
  },
  "kernelspec": {
   "display_name": "Python 3",
   "language": "python",
   "name": "python3"
  },
  "source_map": [
   12
  ]
 },
 "nbformat": 4,
 "nbformat_minor": 5
}