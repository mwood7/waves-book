{
 "cells": [
  {
   "cell_type": "markdown",
   "id": "7a2af413",
   "metadata": {},
   "source": [
    "# Chapter 1: Oscillations\n",
    "\n",
    "We begin our study of waves, acoustics, and optics with a study of simple harmonic motion as displayed by mass-spring systems and pendulums.  \n"
   ]
  }
 ],
 "metadata": {
  "language_info": {
   "name": "python"
  }
 },
 "nbformat": 4,
 "nbformat_minor": 5
}
